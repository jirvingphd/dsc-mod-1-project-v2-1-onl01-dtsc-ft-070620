{
 "cells": [
  {
   "cell_type": "markdown",
   "metadata": {},
   "source": [
    "## Final Project Submission\n",
    "\n",
    "Please fill out:\n",
    "* Student name: \n",
    "* Student pace: self paced / part time / full time\n",
    "* Scheduled project review date/time: \n",
    "* Instructor name: \n",
    "* Blog post URL:\n"
   ]
  },
  {
   "cell_type": "markdown",
   "metadata": {},
   "source": [
    "# Introduction"
   ]
  },
  {
   "cell_type": "markdown",
   "metadata": {},
   "source": [
    "- This analysis is meant to...\n"
   ]
  },
  {
   "cell_type": "code",
   "execution_count": 1,
   "metadata": {
    "ExecuteTime": {
     "end_time": "2020-07-28T15:57:46.871550Z",
     "start_time": "2020-07-28T15:57:46.869248Z"
    }
   },
   "outputs": [],
   "source": [
    "# Your code here - remember to use markdown cells for comments as well!"
   ]
  },
  {
   "cell_type": "code",
   "execution_count": 2,
   "metadata": {
    "ExecuteTime": {
     "end_time": "2020-07-28T15:57:46.883311Z",
     "start_time": "2020-07-28T15:57:46.873922Z"
    }
   },
   "outputs": [
    {
     "data": {
      "text/plain": [
       "['imdb.title.crew.csv.gz',\n",
       " 'tmdb.movies.csv.gz',\n",
       " 'imdb.title.akas.csv.gz',\n",
       " 'imdb.title.ratings.csv.gz',\n",
       " 'imdb.name.basics.csv.gz',\n",
       " 'rt.reviews.tsv.gz',\n",
       " 'imdb.title.basics.csv.gz',\n",
       " 'rt.movie_info.tsv.gz',\n",
       " 'tn.movie_budgets.csv.gz',\n",
       " 'bom.movie_gross.csv.gz',\n",
       " 'imdb.title.principals.csv.gz']"
      ]
     },
     "execution_count": 2,
     "metadata": {},
     "output_type": "execute_result"
    }
   ],
   "source": [
    "import os\n",
    "os.listdir('zippedData/')"
   ]
  },
  {
   "cell_type": "code",
   "execution_count": 3,
   "metadata": {
    "ExecuteTime": {
     "end_time": "2020-07-28T15:57:47.271206Z",
     "start_time": "2020-07-28T15:57:46.884875Z"
    }
   },
   "outputs": [],
   "source": [
    "import pandas as pd"
   ]
  },
  {
   "cell_type": "code",
   "execution_count": 4,
   "metadata": {
    "ExecuteTime": {
     "end_time": "2020-07-28T15:57:47.277145Z",
     "start_time": "2020-07-28T15:57:47.273064Z"
    }
   },
   "outputs": [
    {
     "data": {
      "text/plain": [
       "['zippedData/imdb.title.crew.csv.gz',\n",
       " 'zippedData/tmdb.movies.csv.gz',\n",
       " 'zippedData/imdb.title.akas.csv.gz',\n",
       " 'zippedData/imdb.title.ratings.csv.gz',\n",
       " 'zippedData/imdb.name.basics.csv.gz',\n",
       " 'zippedData/rt.reviews.tsv.gz',\n",
       " 'zippedData/imdb.title.basics.csv.gz',\n",
       " 'zippedData/rt.movie_info.tsv.gz',\n",
       " 'zippedData/tn.movie_budgets.csv.gz',\n",
       " 'zippedData/bom.movie_gross.csv.gz',\n",
       " 'zippedData/imdb.title.principals.csv.gz']"
      ]
     },
     "execution_count": 4,
     "metadata": {},
     "output_type": "execute_result"
    }
   ],
   "source": [
    "import glob \n",
    "file_list = glob.glob('zippedData/*gz')\n",
    "file_list"
   ]
  },
  {
   "cell_type": "code",
   "execution_count": 5,
   "metadata": {
    "ExecuteTime": {
     "end_time": "2020-07-28T15:57:51.613866Z",
     "start_time": "2020-07-28T15:57:47.278740Z"
    },
    "scrolled": false
   },
   "outputs": [
    {
     "data": {
      "text/html": [
       "<style  type=\"text/css\" >\n",
       "</style><table id=\"T_1524f6f4_d0eb_11ea_92e3_4865ee12e626\" ><caption>imdb_title_crew</caption><thead>    <tr>        <th class=\"blank level0\" ></th>        <th class=\"col_heading level0 col0\" >tconst</th>        <th class=\"col_heading level0 col1\" >directors</th>        <th class=\"col_heading level0 col2\" >writers</th>    </tr></thead><tbody>\n",
       "                <tr>\n",
       "                        <th id=\"T_1524f6f4_d0eb_11ea_92e3_4865ee12e626level0_row0\" class=\"row_heading level0 row0\" >0</th>\n",
       "                        <td id=\"T_1524f6f4_d0eb_11ea_92e3_4865ee12e626row0_col0\" class=\"data row0 col0\" >tt0285252</td>\n",
       "                        <td id=\"T_1524f6f4_d0eb_11ea_92e3_4865ee12e626row0_col1\" class=\"data row0 col1\" >nm0899854</td>\n",
       "                        <td id=\"T_1524f6f4_d0eb_11ea_92e3_4865ee12e626row0_col2\" class=\"data row0 col2\" >nm0899854</td>\n",
       "            </tr>\n",
       "            <tr>\n",
       "                        <th id=\"T_1524f6f4_d0eb_11ea_92e3_4865ee12e626level0_row1\" class=\"row_heading level0 row1\" >1</th>\n",
       "                        <td id=\"T_1524f6f4_d0eb_11ea_92e3_4865ee12e626row1_col0\" class=\"data row1 col0\" >tt0438973</td>\n",
       "                        <td id=\"T_1524f6f4_d0eb_11ea_92e3_4865ee12e626row1_col1\" class=\"data row1 col1\" >nan</td>\n",
       "                        <td id=\"T_1524f6f4_d0eb_11ea_92e3_4865ee12e626row1_col2\" class=\"data row1 col2\" >nm0175726,nm1802864</td>\n",
       "            </tr>\n",
       "            <tr>\n",
       "                        <th id=\"T_1524f6f4_d0eb_11ea_92e3_4865ee12e626level0_row2\" class=\"row_heading level0 row2\" >2</th>\n",
       "                        <td id=\"T_1524f6f4_d0eb_11ea_92e3_4865ee12e626row2_col0\" class=\"data row2 col0\" >tt0462036</td>\n",
       "                        <td id=\"T_1524f6f4_d0eb_11ea_92e3_4865ee12e626row2_col1\" class=\"data row2 col1\" >nm1940585</td>\n",
       "                        <td id=\"T_1524f6f4_d0eb_11ea_92e3_4865ee12e626row2_col2\" class=\"data row2 col2\" >nm1940585</td>\n",
       "            </tr>\n",
       "            <tr>\n",
       "                        <th id=\"T_1524f6f4_d0eb_11ea_92e3_4865ee12e626level0_row3\" class=\"row_heading level0 row3\" >3</th>\n",
       "                        <td id=\"T_1524f6f4_d0eb_11ea_92e3_4865ee12e626row3_col0\" class=\"data row3 col0\" >tt0835418</td>\n",
       "                        <td id=\"T_1524f6f4_d0eb_11ea_92e3_4865ee12e626row3_col1\" class=\"data row3 col1\" >nm0151540</td>\n",
       "                        <td id=\"T_1524f6f4_d0eb_11ea_92e3_4865ee12e626row3_col2\" class=\"data row3 col2\" >nm0310087,nm0841532</td>\n",
       "            </tr>\n",
       "            <tr>\n",
       "                        <th id=\"T_1524f6f4_d0eb_11ea_92e3_4865ee12e626level0_row4\" class=\"row_heading level0 row4\" >4</th>\n",
       "                        <td id=\"T_1524f6f4_d0eb_11ea_92e3_4865ee12e626row4_col0\" class=\"data row4 col0\" >tt0878654</td>\n",
       "                        <td id=\"T_1524f6f4_d0eb_11ea_92e3_4865ee12e626row4_col1\" class=\"data row4 col1\" >nm0089502,nm2291498,nm2292011</td>\n",
       "                        <td id=\"T_1524f6f4_d0eb_11ea_92e3_4865ee12e626row4_col2\" class=\"data row4 col2\" >nm0284943</td>\n",
       "            </tr>\n",
       "    </tbody></table>"
      ],
      "text/plain": [
       "<pandas.io.formats.style.Styler at 0x10fe69438>"
      ]
     },
     "metadata": {},
     "output_type": "display_data"
    },
    {
     "data": {
      "text/html": [
       "<style  type=\"text/css\" >\n",
       "</style><table id=\"T_1530bade_d0eb_11ea_a1e3_4865ee12e626\" ><caption>tmdb_movies</caption><thead>    <tr>        <th class=\"blank level0\" ></th>        <th class=\"col_heading level0 col0\" >Unnamed: 0</th>        <th class=\"col_heading level0 col1\" >genre_ids</th>        <th class=\"col_heading level0 col2\" >id</th>        <th class=\"col_heading level0 col3\" >original_language</th>        <th class=\"col_heading level0 col4\" >original_title</th>        <th class=\"col_heading level0 col5\" >popularity</th>        <th class=\"col_heading level0 col6\" >release_date</th>        <th class=\"col_heading level0 col7\" >title</th>        <th class=\"col_heading level0 col8\" >vote_average</th>        <th class=\"col_heading level0 col9\" >vote_count</th>    </tr></thead><tbody>\n",
       "                <tr>\n",
       "                        <th id=\"T_1530bade_d0eb_11ea_a1e3_4865ee12e626level0_row0\" class=\"row_heading level0 row0\" >0</th>\n",
       "                        <td id=\"T_1530bade_d0eb_11ea_a1e3_4865ee12e626row0_col0\" class=\"data row0 col0\" >0</td>\n",
       "                        <td id=\"T_1530bade_d0eb_11ea_a1e3_4865ee12e626row0_col1\" class=\"data row0 col1\" >[12, 14, 10751]</td>\n",
       "                        <td id=\"T_1530bade_d0eb_11ea_a1e3_4865ee12e626row0_col2\" class=\"data row0 col2\" >12444</td>\n",
       "                        <td id=\"T_1530bade_d0eb_11ea_a1e3_4865ee12e626row0_col3\" class=\"data row0 col3\" >en</td>\n",
       "                        <td id=\"T_1530bade_d0eb_11ea_a1e3_4865ee12e626row0_col4\" class=\"data row0 col4\" >Harry Potter and the Deathly Hallows: Part 1</td>\n",
       "                        <td id=\"T_1530bade_d0eb_11ea_a1e3_4865ee12e626row0_col5\" class=\"data row0 col5\" >33.533000</td>\n",
       "                        <td id=\"T_1530bade_d0eb_11ea_a1e3_4865ee12e626row0_col6\" class=\"data row0 col6\" >2010-11-19</td>\n",
       "                        <td id=\"T_1530bade_d0eb_11ea_a1e3_4865ee12e626row0_col7\" class=\"data row0 col7\" >Harry Potter and the Deathly Hallows: Part 1</td>\n",
       "                        <td id=\"T_1530bade_d0eb_11ea_a1e3_4865ee12e626row0_col8\" class=\"data row0 col8\" >7.700000</td>\n",
       "                        <td id=\"T_1530bade_d0eb_11ea_a1e3_4865ee12e626row0_col9\" class=\"data row0 col9\" >10788</td>\n",
       "            </tr>\n",
       "            <tr>\n",
       "                        <th id=\"T_1530bade_d0eb_11ea_a1e3_4865ee12e626level0_row1\" class=\"row_heading level0 row1\" >1</th>\n",
       "                        <td id=\"T_1530bade_d0eb_11ea_a1e3_4865ee12e626row1_col0\" class=\"data row1 col0\" >1</td>\n",
       "                        <td id=\"T_1530bade_d0eb_11ea_a1e3_4865ee12e626row1_col1\" class=\"data row1 col1\" >[14, 12, 16, 10751]</td>\n",
       "                        <td id=\"T_1530bade_d0eb_11ea_a1e3_4865ee12e626row1_col2\" class=\"data row1 col2\" >10191</td>\n",
       "                        <td id=\"T_1530bade_d0eb_11ea_a1e3_4865ee12e626row1_col3\" class=\"data row1 col3\" >en</td>\n",
       "                        <td id=\"T_1530bade_d0eb_11ea_a1e3_4865ee12e626row1_col4\" class=\"data row1 col4\" >How to Train Your Dragon</td>\n",
       "                        <td id=\"T_1530bade_d0eb_11ea_a1e3_4865ee12e626row1_col5\" class=\"data row1 col5\" >28.734000</td>\n",
       "                        <td id=\"T_1530bade_d0eb_11ea_a1e3_4865ee12e626row1_col6\" class=\"data row1 col6\" >2010-03-26</td>\n",
       "                        <td id=\"T_1530bade_d0eb_11ea_a1e3_4865ee12e626row1_col7\" class=\"data row1 col7\" >How to Train Your Dragon</td>\n",
       "                        <td id=\"T_1530bade_d0eb_11ea_a1e3_4865ee12e626row1_col8\" class=\"data row1 col8\" >7.700000</td>\n",
       "                        <td id=\"T_1530bade_d0eb_11ea_a1e3_4865ee12e626row1_col9\" class=\"data row1 col9\" >7610</td>\n",
       "            </tr>\n",
       "            <tr>\n",
       "                        <th id=\"T_1530bade_d0eb_11ea_a1e3_4865ee12e626level0_row2\" class=\"row_heading level0 row2\" >2</th>\n",
       "                        <td id=\"T_1530bade_d0eb_11ea_a1e3_4865ee12e626row2_col0\" class=\"data row2 col0\" >2</td>\n",
       "                        <td id=\"T_1530bade_d0eb_11ea_a1e3_4865ee12e626row2_col1\" class=\"data row2 col1\" >[12, 28, 878]</td>\n",
       "                        <td id=\"T_1530bade_d0eb_11ea_a1e3_4865ee12e626row2_col2\" class=\"data row2 col2\" >10138</td>\n",
       "                        <td id=\"T_1530bade_d0eb_11ea_a1e3_4865ee12e626row2_col3\" class=\"data row2 col3\" >en</td>\n",
       "                        <td id=\"T_1530bade_d0eb_11ea_a1e3_4865ee12e626row2_col4\" class=\"data row2 col4\" >Iron Man 2</td>\n",
       "                        <td id=\"T_1530bade_d0eb_11ea_a1e3_4865ee12e626row2_col5\" class=\"data row2 col5\" >28.515000</td>\n",
       "                        <td id=\"T_1530bade_d0eb_11ea_a1e3_4865ee12e626row2_col6\" class=\"data row2 col6\" >2010-05-07</td>\n",
       "                        <td id=\"T_1530bade_d0eb_11ea_a1e3_4865ee12e626row2_col7\" class=\"data row2 col7\" >Iron Man 2</td>\n",
       "                        <td id=\"T_1530bade_d0eb_11ea_a1e3_4865ee12e626row2_col8\" class=\"data row2 col8\" >6.800000</td>\n",
       "                        <td id=\"T_1530bade_d0eb_11ea_a1e3_4865ee12e626row2_col9\" class=\"data row2 col9\" >12368</td>\n",
       "            </tr>\n",
       "            <tr>\n",
       "                        <th id=\"T_1530bade_d0eb_11ea_a1e3_4865ee12e626level0_row3\" class=\"row_heading level0 row3\" >3</th>\n",
       "                        <td id=\"T_1530bade_d0eb_11ea_a1e3_4865ee12e626row3_col0\" class=\"data row3 col0\" >3</td>\n",
       "                        <td id=\"T_1530bade_d0eb_11ea_a1e3_4865ee12e626row3_col1\" class=\"data row3 col1\" >[16, 35, 10751]</td>\n",
       "                        <td id=\"T_1530bade_d0eb_11ea_a1e3_4865ee12e626row3_col2\" class=\"data row3 col2\" >862</td>\n",
       "                        <td id=\"T_1530bade_d0eb_11ea_a1e3_4865ee12e626row3_col3\" class=\"data row3 col3\" >en</td>\n",
       "                        <td id=\"T_1530bade_d0eb_11ea_a1e3_4865ee12e626row3_col4\" class=\"data row3 col4\" >Toy Story</td>\n",
       "                        <td id=\"T_1530bade_d0eb_11ea_a1e3_4865ee12e626row3_col5\" class=\"data row3 col5\" >28.005000</td>\n",
       "                        <td id=\"T_1530bade_d0eb_11ea_a1e3_4865ee12e626row3_col6\" class=\"data row3 col6\" >1995-11-22</td>\n",
       "                        <td id=\"T_1530bade_d0eb_11ea_a1e3_4865ee12e626row3_col7\" class=\"data row3 col7\" >Toy Story</td>\n",
       "                        <td id=\"T_1530bade_d0eb_11ea_a1e3_4865ee12e626row3_col8\" class=\"data row3 col8\" >7.900000</td>\n",
       "                        <td id=\"T_1530bade_d0eb_11ea_a1e3_4865ee12e626row3_col9\" class=\"data row3 col9\" >10174</td>\n",
       "            </tr>\n",
       "            <tr>\n",
       "                        <th id=\"T_1530bade_d0eb_11ea_a1e3_4865ee12e626level0_row4\" class=\"row_heading level0 row4\" >4</th>\n",
       "                        <td id=\"T_1530bade_d0eb_11ea_a1e3_4865ee12e626row4_col0\" class=\"data row4 col0\" >4</td>\n",
       "                        <td id=\"T_1530bade_d0eb_11ea_a1e3_4865ee12e626row4_col1\" class=\"data row4 col1\" >[28, 878, 12]</td>\n",
       "                        <td id=\"T_1530bade_d0eb_11ea_a1e3_4865ee12e626row4_col2\" class=\"data row4 col2\" >27205</td>\n",
       "                        <td id=\"T_1530bade_d0eb_11ea_a1e3_4865ee12e626row4_col3\" class=\"data row4 col3\" >en</td>\n",
       "                        <td id=\"T_1530bade_d0eb_11ea_a1e3_4865ee12e626row4_col4\" class=\"data row4 col4\" >Inception</td>\n",
       "                        <td id=\"T_1530bade_d0eb_11ea_a1e3_4865ee12e626row4_col5\" class=\"data row4 col5\" >27.920000</td>\n",
       "                        <td id=\"T_1530bade_d0eb_11ea_a1e3_4865ee12e626row4_col6\" class=\"data row4 col6\" >2010-07-16</td>\n",
       "                        <td id=\"T_1530bade_d0eb_11ea_a1e3_4865ee12e626row4_col7\" class=\"data row4 col7\" >Inception</td>\n",
       "                        <td id=\"T_1530bade_d0eb_11ea_a1e3_4865ee12e626row4_col8\" class=\"data row4 col8\" >8.300000</td>\n",
       "                        <td id=\"T_1530bade_d0eb_11ea_a1e3_4865ee12e626row4_col9\" class=\"data row4 col9\" >22186</td>\n",
       "            </tr>\n",
       "    </tbody></table>"
      ],
      "text/plain": [
       "<pandas.io.formats.style.Styler at 0x122de7eb8>"
      ]
     },
     "metadata": {},
     "output_type": "display_data"
    },
    {
     "data": {
      "text/html": [
       "<style  type=\"text/css\" >\n",
       "</style><table id=\"T_1576cc18_d0eb_11ea_91cf_4865ee12e626\" ><caption>imdb_title_akas</caption><thead>    <tr>        <th class=\"blank level0\" ></th>        <th class=\"col_heading level0 col0\" >title_id</th>        <th class=\"col_heading level0 col1\" >ordering</th>        <th class=\"col_heading level0 col2\" >title</th>        <th class=\"col_heading level0 col3\" >region</th>        <th class=\"col_heading level0 col4\" >language</th>        <th class=\"col_heading level0 col5\" >types</th>        <th class=\"col_heading level0 col6\" >attributes</th>        <th class=\"col_heading level0 col7\" >is_original_title</th>    </tr></thead><tbody>\n",
       "                <tr>\n",
       "                        <th id=\"T_1576cc18_d0eb_11ea_91cf_4865ee12e626level0_row0\" class=\"row_heading level0 row0\" >0</th>\n",
       "                        <td id=\"T_1576cc18_d0eb_11ea_91cf_4865ee12e626row0_col0\" class=\"data row0 col0\" >tt0369610</td>\n",
       "                        <td id=\"T_1576cc18_d0eb_11ea_91cf_4865ee12e626row0_col1\" class=\"data row0 col1\" >10</td>\n",
       "                        <td id=\"T_1576cc18_d0eb_11ea_91cf_4865ee12e626row0_col2\" class=\"data row0 col2\" >Джурасик свят</td>\n",
       "                        <td id=\"T_1576cc18_d0eb_11ea_91cf_4865ee12e626row0_col3\" class=\"data row0 col3\" >BG</td>\n",
       "                        <td id=\"T_1576cc18_d0eb_11ea_91cf_4865ee12e626row0_col4\" class=\"data row0 col4\" >bg</td>\n",
       "                        <td id=\"T_1576cc18_d0eb_11ea_91cf_4865ee12e626row0_col5\" class=\"data row0 col5\" >nan</td>\n",
       "                        <td id=\"T_1576cc18_d0eb_11ea_91cf_4865ee12e626row0_col6\" class=\"data row0 col6\" >nan</td>\n",
       "                        <td id=\"T_1576cc18_d0eb_11ea_91cf_4865ee12e626row0_col7\" class=\"data row0 col7\" >0.000000</td>\n",
       "            </tr>\n",
       "            <tr>\n",
       "                        <th id=\"T_1576cc18_d0eb_11ea_91cf_4865ee12e626level0_row1\" class=\"row_heading level0 row1\" >1</th>\n",
       "                        <td id=\"T_1576cc18_d0eb_11ea_91cf_4865ee12e626row1_col0\" class=\"data row1 col0\" >tt0369610</td>\n",
       "                        <td id=\"T_1576cc18_d0eb_11ea_91cf_4865ee12e626row1_col1\" class=\"data row1 col1\" >11</td>\n",
       "                        <td id=\"T_1576cc18_d0eb_11ea_91cf_4865ee12e626row1_col2\" class=\"data row1 col2\" >Jurashikku warudo</td>\n",
       "                        <td id=\"T_1576cc18_d0eb_11ea_91cf_4865ee12e626row1_col3\" class=\"data row1 col3\" >JP</td>\n",
       "                        <td id=\"T_1576cc18_d0eb_11ea_91cf_4865ee12e626row1_col4\" class=\"data row1 col4\" >nan</td>\n",
       "                        <td id=\"T_1576cc18_d0eb_11ea_91cf_4865ee12e626row1_col5\" class=\"data row1 col5\" >imdbDisplay</td>\n",
       "                        <td id=\"T_1576cc18_d0eb_11ea_91cf_4865ee12e626row1_col6\" class=\"data row1 col6\" >nan</td>\n",
       "                        <td id=\"T_1576cc18_d0eb_11ea_91cf_4865ee12e626row1_col7\" class=\"data row1 col7\" >0.000000</td>\n",
       "            </tr>\n",
       "            <tr>\n",
       "                        <th id=\"T_1576cc18_d0eb_11ea_91cf_4865ee12e626level0_row2\" class=\"row_heading level0 row2\" >2</th>\n",
       "                        <td id=\"T_1576cc18_d0eb_11ea_91cf_4865ee12e626row2_col0\" class=\"data row2 col0\" >tt0369610</td>\n",
       "                        <td id=\"T_1576cc18_d0eb_11ea_91cf_4865ee12e626row2_col1\" class=\"data row2 col1\" >12</td>\n",
       "                        <td id=\"T_1576cc18_d0eb_11ea_91cf_4865ee12e626row2_col2\" class=\"data row2 col2\" >Jurassic World: O Mundo dos Dinossauros</td>\n",
       "                        <td id=\"T_1576cc18_d0eb_11ea_91cf_4865ee12e626row2_col3\" class=\"data row2 col3\" >BR</td>\n",
       "                        <td id=\"T_1576cc18_d0eb_11ea_91cf_4865ee12e626row2_col4\" class=\"data row2 col4\" >nan</td>\n",
       "                        <td id=\"T_1576cc18_d0eb_11ea_91cf_4865ee12e626row2_col5\" class=\"data row2 col5\" >imdbDisplay</td>\n",
       "                        <td id=\"T_1576cc18_d0eb_11ea_91cf_4865ee12e626row2_col6\" class=\"data row2 col6\" >nan</td>\n",
       "                        <td id=\"T_1576cc18_d0eb_11ea_91cf_4865ee12e626row2_col7\" class=\"data row2 col7\" >0.000000</td>\n",
       "            </tr>\n",
       "            <tr>\n",
       "                        <th id=\"T_1576cc18_d0eb_11ea_91cf_4865ee12e626level0_row3\" class=\"row_heading level0 row3\" >3</th>\n",
       "                        <td id=\"T_1576cc18_d0eb_11ea_91cf_4865ee12e626row3_col0\" class=\"data row3 col0\" >tt0369610</td>\n",
       "                        <td id=\"T_1576cc18_d0eb_11ea_91cf_4865ee12e626row3_col1\" class=\"data row3 col1\" >13</td>\n",
       "                        <td id=\"T_1576cc18_d0eb_11ea_91cf_4865ee12e626row3_col2\" class=\"data row3 col2\" >O Mundo dos Dinossauros</td>\n",
       "                        <td id=\"T_1576cc18_d0eb_11ea_91cf_4865ee12e626row3_col3\" class=\"data row3 col3\" >BR</td>\n",
       "                        <td id=\"T_1576cc18_d0eb_11ea_91cf_4865ee12e626row3_col4\" class=\"data row3 col4\" >nan</td>\n",
       "                        <td id=\"T_1576cc18_d0eb_11ea_91cf_4865ee12e626row3_col5\" class=\"data row3 col5\" >nan</td>\n",
       "                        <td id=\"T_1576cc18_d0eb_11ea_91cf_4865ee12e626row3_col6\" class=\"data row3 col6\" >short title</td>\n",
       "                        <td id=\"T_1576cc18_d0eb_11ea_91cf_4865ee12e626row3_col7\" class=\"data row3 col7\" >0.000000</td>\n",
       "            </tr>\n",
       "            <tr>\n",
       "                        <th id=\"T_1576cc18_d0eb_11ea_91cf_4865ee12e626level0_row4\" class=\"row_heading level0 row4\" >4</th>\n",
       "                        <td id=\"T_1576cc18_d0eb_11ea_91cf_4865ee12e626row4_col0\" class=\"data row4 col0\" >tt0369610</td>\n",
       "                        <td id=\"T_1576cc18_d0eb_11ea_91cf_4865ee12e626row4_col1\" class=\"data row4 col1\" >14</td>\n",
       "                        <td id=\"T_1576cc18_d0eb_11ea_91cf_4865ee12e626row4_col2\" class=\"data row4 col2\" >Jurassic World</td>\n",
       "                        <td id=\"T_1576cc18_d0eb_11ea_91cf_4865ee12e626row4_col3\" class=\"data row4 col3\" >FR</td>\n",
       "                        <td id=\"T_1576cc18_d0eb_11ea_91cf_4865ee12e626row4_col4\" class=\"data row4 col4\" >nan</td>\n",
       "                        <td id=\"T_1576cc18_d0eb_11ea_91cf_4865ee12e626row4_col5\" class=\"data row4 col5\" >imdbDisplay</td>\n",
       "                        <td id=\"T_1576cc18_d0eb_11ea_91cf_4865ee12e626row4_col6\" class=\"data row4 col6\" >nan</td>\n",
       "                        <td id=\"T_1576cc18_d0eb_11ea_91cf_4865ee12e626row4_col7\" class=\"data row4 col7\" >0.000000</td>\n",
       "            </tr>\n",
       "    </tbody></table>"
      ],
      "text/plain": [
       "<pandas.io.formats.style.Styler at 0x1217a0eb8>"
      ]
     },
     "metadata": {},
     "output_type": "display_data"
    },
    {
     "data": {
      "text/html": [
       "<style  type=\"text/css\" >\n",
       "</style><table id=\"T_157e67b6_d0eb_11ea_a148_4865ee12e626\" ><caption>imdb_title_ratings</caption><thead>    <tr>        <th class=\"blank level0\" ></th>        <th class=\"col_heading level0 col0\" >tconst</th>        <th class=\"col_heading level0 col1\" >averagerating</th>        <th class=\"col_heading level0 col2\" >numvotes</th>    </tr></thead><tbody>\n",
       "                <tr>\n",
       "                        <th id=\"T_157e67b6_d0eb_11ea_a148_4865ee12e626level0_row0\" class=\"row_heading level0 row0\" >0</th>\n",
       "                        <td id=\"T_157e67b6_d0eb_11ea_a148_4865ee12e626row0_col0\" class=\"data row0 col0\" >tt10356526</td>\n",
       "                        <td id=\"T_157e67b6_d0eb_11ea_a148_4865ee12e626row0_col1\" class=\"data row0 col1\" >8.300000</td>\n",
       "                        <td id=\"T_157e67b6_d0eb_11ea_a148_4865ee12e626row0_col2\" class=\"data row0 col2\" >31</td>\n",
       "            </tr>\n",
       "            <tr>\n",
       "                        <th id=\"T_157e67b6_d0eb_11ea_a148_4865ee12e626level0_row1\" class=\"row_heading level0 row1\" >1</th>\n",
       "                        <td id=\"T_157e67b6_d0eb_11ea_a148_4865ee12e626row1_col0\" class=\"data row1 col0\" >tt10384606</td>\n",
       "                        <td id=\"T_157e67b6_d0eb_11ea_a148_4865ee12e626row1_col1\" class=\"data row1 col1\" >8.900000</td>\n",
       "                        <td id=\"T_157e67b6_d0eb_11ea_a148_4865ee12e626row1_col2\" class=\"data row1 col2\" >559</td>\n",
       "            </tr>\n",
       "            <tr>\n",
       "                        <th id=\"T_157e67b6_d0eb_11ea_a148_4865ee12e626level0_row2\" class=\"row_heading level0 row2\" >2</th>\n",
       "                        <td id=\"T_157e67b6_d0eb_11ea_a148_4865ee12e626row2_col0\" class=\"data row2 col0\" >tt1042974</td>\n",
       "                        <td id=\"T_157e67b6_d0eb_11ea_a148_4865ee12e626row2_col1\" class=\"data row2 col1\" >6.400000</td>\n",
       "                        <td id=\"T_157e67b6_d0eb_11ea_a148_4865ee12e626row2_col2\" class=\"data row2 col2\" >20</td>\n",
       "            </tr>\n",
       "            <tr>\n",
       "                        <th id=\"T_157e67b6_d0eb_11ea_a148_4865ee12e626level0_row3\" class=\"row_heading level0 row3\" >3</th>\n",
       "                        <td id=\"T_157e67b6_d0eb_11ea_a148_4865ee12e626row3_col0\" class=\"data row3 col0\" >tt1043726</td>\n",
       "                        <td id=\"T_157e67b6_d0eb_11ea_a148_4865ee12e626row3_col1\" class=\"data row3 col1\" >4.200000</td>\n",
       "                        <td id=\"T_157e67b6_d0eb_11ea_a148_4865ee12e626row3_col2\" class=\"data row3 col2\" >50352</td>\n",
       "            </tr>\n",
       "            <tr>\n",
       "                        <th id=\"T_157e67b6_d0eb_11ea_a148_4865ee12e626level0_row4\" class=\"row_heading level0 row4\" >4</th>\n",
       "                        <td id=\"T_157e67b6_d0eb_11ea_a148_4865ee12e626row4_col0\" class=\"data row4 col0\" >tt1060240</td>\n",
       "                        <td id=\"T_157e67b6_d0eb_11ea_a148_4865ee12e626row4_col1\" class=\"data row4 col1\" >6.500000</td>\n",
       "                        <td id=\"T_157e67b6_d0eb_11ea_a148_4865ee12e626row4_col2\" class=\"data row4 col2\" >21</td>\n",
       "            </tr>\n",
       "    </tbody></table>"
      ],
      "text/plain": [
       "<pandas.io.formats.style.Styler at 0x112fa1160>"
      ]
     },
     "metadata": {},
     "output_type": "display_data"
    },
    {
     "data": {
      "text/html": [
       "<style  type=\"text/css\" >\n",
       "</style><table id=\"T_164b19d2_d0eb_11ea_887a_4865ee12e626\" ><caption>imdb_name_basics</caption><thead>    <tr>        <th class=\"blank level0\" ></th>        <th class=\"col_heading level0 col0\" >nconst</th>        <th class=\"col_heading level0 col1\" >primary_name</th>        <th class=\"col_heading level0 col2\" >birth_year</th>        <th class=\"col_heading level0 col3\" >death_year</th>        <th class=\"col_heading level0 col4\" >primary_profession</th>        <th class=\"col_heading level0 col5\" >known_for_titles</th>    </tr></thead><tbody>\n",
       "                <tr>\n",
       "                        <th id=\"T_164b19d2_d0eb_11ea_887a_4865ee12e626level0_row0\" class=\"row_heading level0 row0\" >0</th>\n",
       "                        <td id=\"T_164b19d2_d0eb_11ea_887a_4865ee12e626row0_col0\" class=\"data row0 col0\" >nm0061671</td>\n",
       "                        <td id=\"T_164b19d2_d0eb_11ea_887a_4865ee12e626row0_col1\" class=\"data row0 col1\" >Mary Ellen Bauder</td>\n",
       "                        <td id=\"T_164b19d2_d0eb_11ea_887a_4865ee12e626row0_col2\" class=\"data row0 col2\" >nan</td>\n",
       "                        <td id=\"T_164b19d2_d0eb_11ea_887a_4865ee12e626row0_col3\" class=\"data row0 col3\" >nan</td>\n",
       "                        <td id=\"T_164b19d2_d0eb_11ea_887a_4865ee12e626row0_col4\" class=\"data row0 col4\" >miscellaneous,production_manager,producer</td>\n",
       "                        <td id=\"T_164b19d2_d0eb_11ea_887a_4865ee12e626row0_col5\" class=\"data row0 col5\" >tt0837562,tt2398241,tt0844471,tt0118553</td>\n",
       "            </tr>\n",
       "            <tr>\n",
       "                        <th id=\"T_164b19d2_d0eb_11ea_887a_4865ee12e626level0_row1\" class=\"row_heading level0 row1\" >1</th>\n",
       "                        <td id=\"T_164b19d2_d0eb_11ea_887a_4865ee12e626row1_col0\" class=\"data row1 col0\" >nm0061865</td>\n",
       "                        <td id=\"T_164b19d2_d0eb_11ea_887a_4865ee12e626row1_col1\" class=\"data row1 col1\" >Joseph Bauer</td>\n",
       "                        <td id=\"T_164b19d2_d0eb_11ea_887a_4865ee12e626row1_col2\" class=\"data row1 col2\" >nan</td>\n",
       "                        <td id=\"T_164b19d2_d0eb_11ea_887a_4865ee12e626row1_col3\" class=\"data row1 col3\" >nan</td>\n",
       "                        <td id=\"T_164b19d2_d0eb_11ea_887a_4865ee12e626row1_col4\" class=\"data row1 col4\" >composer,music_department,sound_department</td>\n",
       "                        <td id=\"T_164b19d2_d0eb_11ea_887a_4865ee12e626row1_col5\" class=\"data row1 col5\" >tt0896534,tt6791238,tt0287072,tt1682940</td>\n",
       "            </tr>\n",
       "            <tr>\n",
       "                        <th id=\"T_164b19d2_d0eb_11ea_887a_4865ee12e626level0_row2\" class=\"row_heading level0 row2\" >2</th>\n",
       "                        <td id=\"T_164b19d2_d0eb_11ea_887a_4865ee12e626row2_col0\" class=\"data row2 col0\" >nm0062070</td>\n",
       "                        <td id=\"T_164b19d2_d0eb_11ea_887a_4865ee12e626row2_col1\" class=\"data row2 col1\" >Bruce Baum</td>\n",
       "                        <td id=\"T_164b19d2_d0eb_11ea_887a_4865ee12e626row2_col2\" class=\"data row2 col2\" >nan</td>\n",
       "                        <td id=\"T_164b19d2_d0eb_11ea_887a_4865ee12e626row2_col3\" class=\"data row2 col3\" >nan</td>\n",
       "                        <td id=\"T_164b19d2_d0eb_11ea_887a_4865ee12e626row2_col4\" class=\"data row2 col4\" >miscellaneous,actor,writer</td>\n",
       "                        <td id=\"T_164b19d2_d0eb_11ea_887a_4865ee12e626row2_col5\" class=\"data row2 col5\" >tt1470654,tt0363631,tt0104030,tt0102898</td>\n",
       "            </tr>\n",
       "            <tr>\n",
       "                        <th id=\"T_164b19d2_d0eb_11ea_887a_4865ee12e626level0_row3\" class=\"row_heading level0 row3\" >3</th>\n",
       "                        <td id=\"T_164b19d2_d0eb_11ea_887a_4865ee12e626row3_col0\" class=\"data row3 col0\" >nm0062195</td>\n",
       "                        <td id=\"T_164b19d2_d0eb_11ea_887a_4865ee12e626row3_col1\" class=\"data row3 col1\" >Axel Baumann</td>\n",
       "                        <td id=\"T_164b19d2_d0eb_11ea_887a_4865ee12e626row3_col2\" class=\"data row3 col2\" >nan</td>\n",
       "                        <td id=\"T_164b19d2_d0eb_11ea_887a_4865ee12e626row3_col3\" class=\"data row3 col3\" >nan</td>\n",
       "                        <td id=\"T_164b19d2_d0eb_11ea_887a_4865ee12e626row3_col4\" class=\"data row3 col4\" >camera_department,cinematographer,art_department</td>\n",
       "                        <td id=\"T_164b19d2_d0eb_11ea_887a_4865ee12e626row3_col5\" class=\"data row3 col5\" >tt0114371,tt2004304,tt1618448,tt1224387</td>\n",
       "            </tr>\n",
       "            <tr>\n",
       "                        <th id=\"T_164b19d2_d0eb_11ea_887a_4865ee12e626level0_row4\" class=\"row_heading level0 row4\" >4</th>\n",
       "                        <td id=\"T_164b19d2_d0eb_11ea_887a_4865ee12e626row4_col0\" class=\"data row4 col0\" >nm0062798</td>\n",
       "                        <td id=\"T_164b19d2_d0eb_11ea_887a_4865ee12e626row4_col1\" class=\"data row4 col1\" >Pete Baxter</td>\n",
       "                        <td id=\"T_164b19d2_d0eb_11ea_887a_4865ee12e626row4_col2\" class=\"data row4 col2\" >nan</td>\n",
       "                        <td id=\"T_164b19d2_d0eb_11ea_887a_4865ee12e626row4_col3\" class=\"data row4 col3\" >nan</td>\n",
       "                        <td id=\"T_164b19d2_d0eb_11ea_887a_4865ee12e626row4_col4\" class=\"data row4 col4\" >production_designer,art_department,set_decorator</td>\n",
       "                        <td id=\"T_164b19d2_d0eb_11ea_887a_4865ee12e626row4_col5\" class=\"data row4 col5\" >tt0452644,tt0452692,tt3458030,tt2178256</td>\n",
       "            </tr>\n",
       "    </tbody></table>"
      ],
      "text/plain": [
       "<pandas.io.formats.style.Styler at 0x122de7eb8>"
      ]
     },
     "metadata": {},
     "output_type": "display_data"
    },
    {
     "data": {
      "text/html": [
       "<style  type=\"text/css\" >\n",
       "</style><table id=\"T_166c3fe2_d0eb_11ea_be97_4865ee12e626\" ><caption>rt_reviews</caption><thead>    <tr>        <th class=\"blank level0\" ></th>        <th class=\"col_heading level0 col0\" >id</th>        <th class=\"col_heading level0 col1\" >review</th>        <th class=\"col_heading level0 col2\" >rating</th>        <th class=\"col_heading level0 col3\" >fresh</th>        <th class=\"col_heading level0 col4\" >critic</th>        <th class=\"col_heading level0 col5\" >top_critic</th>        <th class=\"col_heading level0 col6\" >publisher</th>        <th class=\"col_heading level0 col7\" >date</th>    </tr></thead><tbody>\n",
       "                <tr>\n",
       "                        <th id=\"T_166c3fe2_d0eb_11ea_be97_4865ee12e626level0_row0\" class=\"row_heading level0 row0\" >0</th>\n",
       "                        <td id=\"T_166c3fe2_d0eb_11ea_be97_4865ee12e626row0_col0\" class=\"data row0 col0\" >3</td>\n",
       "                        <td id=\"T_166c3fe2_d0eb_11ea_be97_4865ee12e626row0_col1\" class=\"data row0 col1\" >A distinctly gallows take on contemporary financial mores, as one absurdly rich man's limo ride across town for a haircut functions as a state-of-the-nation discourse. </td>\n",
       "                        <td id=\"T_166c3fe2_d0eb_11ea_be97_4865ee12e626row0_col2\" class=\"data row0 col2\" >3/5</td>\n",
       "                        <td id=\"T_166c3fe2_d0eb_11ea_be97_4865ee12e626row0_col3\" class=\"data row0 col3\" >fresh</td>\n",
       "                        <td id=\"T_166c3fe2_d0eb_11ea_be97_4865ee12e626row0_col4\" class=\"data row0 col4\" >PJ Nabarro</td>\n",
       "                        <td id=\"T_166c3fe2_d0eb_11ea_be97_4865ee12e626row0_col5\" class=\"data row0 col5\" >0</td>\n",
       "                        <td id=\"T_166c3fe2_d0eb_11ea_be97_4865ee12e626row0_col6\" class=\"data row0 col6\" >Patrick Nabarro</td>\n",
       "                        <td id=\"T_166c3fe2_d0eb_11ea_be97_4865ee12e626row0_col7\" class=\"data row0 col7\" >November 10, 2018</td>\n",
       "            </tr>\n",
       "            <tr>\n",
       "                        <th id=\"T_166c3fe2_d0eb_11ea_be97_4865ee12e626level0_row1\" class=\"row_heading level0 row1\" >1</th>\n",
       "                        <td id=\"T_166c3fe2_d0eb_11ea_be97_4865ee12e626row1_col0\" class=\"data row1 col0\" >3</td>\n",
       "                        <td id=\"T_166c3fe2_d0eb_11ea_be97_4865ee12e626row1_col1\" class=\"data row1 col1\" >It's an allegory in search of a meaning that never arrives...It's just old-fashioned bad storytelling.</td>\n",
       "                        <td id=\"T_166c3fe2_d0eb_11ea_be97_4865ee12e626row1_col2\" class=\"data row1 col2\" >nan</td>\n",
       "                        <td id=\"T_166c3fe2_d0eb_11ea_be97_4865ee12e626row1_col3\" class=\"data row1 col3\" >rotten</td>\n",
       "                        <td id=\"T_166c3fe2_d0eb_11ea_be97_4865ee12e626row1_col4\" class=\"data row1 col4\" >Annalee Newitz</td>\n",
       "                        <td id=\"T_166c3fe2_d0eb_11ea_be97_4865ee12e626row1_col5\" class=\"data row1 col5\" >0</td>\n",
       "                        <td id=\"T_166c3fe2_d0eb_11ea_be97_4865ee12e626row1_col6\" class=\"data row1 col6\" >io9.com</td>\n",
       "                        <td id=\"T_166c3fe2_d0eb_11ea_be97_4865ee12e626row1_col7\" class=\"data row1 col7\" >May 23, 2018</td>\n",
       "            </tr>\n",
       "            <tr>\n",
       "                        <th id=\"T_166c3fe2_d0eb_11ea_be97_4865ee12e626level0_row2\" class=\"row_heading level0 row2\" >2</th>\n",
       "                        <td id=\"T_166c3fe2_d0eb_11ea_be97_4865ee12e626row2_col0\" class=\"data row2 col0\" >3</td>\n",
       "                        <td id=\"T_166c3fe2_d0eb_11ea_be97_4865ee12e626row2_col1\" class=\"data row2 col1\" >... life lived in a bubble in financial dealings and digital communications and brief face-to-face conversations and sexual intermissions in a space shuttle of a limousine creeping through the gridlock of an anonymous New York City.</td>\n",
       "                        <td id=\"T_166c3fe2_d0eb_11ea_be97_4865ee12e626row2_col2\" class=\"data row2 col2\" >nan</td>\n",
       "                        <td id=\"T_166c3fe2_d0eb_11ea_be97_4865ee12e626row2_col3\" class=\"data row2 col3\" >fresh</td>\n",
       "                        <td id=\"T_166c3fe2_d0eb_11ea_be97_4865ee12e626row2_col4\" class=\"data row2 col4\" >Sean Axmaker</td>\n",
       "                        <td id=\"T_166c3fe2_d0eb_11ea_be97_4865ee12e626row2_col5\" class=\"data row2 col5\" >0</td>\n",
       "                        <td id=\"T_166c3fe2_d0eb_11ea_be97_4865ee12e626row2_col6\" class=\"data row2 col6\" >Stream on Demand</td>\n",
       "                        <td id=\"T_166c3fe2_d0eb_11ea_be97_4865ee12e626row2_col7\" class=\"data row2 col7\" >January 4, 2018</td>\n",
       "            </tr>\n",
       "            <tr>\n",
       "                        <th id=\"T_166c3fe2_d0eb_11ea_be97_4865ee12e626level0_row3\" class=\"row_heading level0 row3\" >3</th>\n",
       "                        <td id=\"T_166c3fe2_d0eb_11ea_be97_4865ee12e626row3_col0\" class=\"data row3 col0\" >3</td>\n",
       "                        <td id=\"T_166c3fe2_d0eb_11ea_be97_4865ee12e626row3_col1\" class=\"data row3 col1\" >Continuing along a line introduced in last year's \"A Dangerous Method\", David Cronenberg pushes his cinema towards a talky abstraction in his uncanny, perversely funny and frighteningly insular adaptation of Don DeLillo, \"Cosmopolis\".</td>\n",
       "                        <td id=\"T_166c3fe2_d0eb_11ea_be97_4865ee12e626row3_col2\" class=\"data row3 col2\" >nan</td>\n",
       "                        <td id=\"T_166c3fe2_d0eb_11ea_be97_4865ee12e626row3_col3\" class=\"data row3 col3\" >fresh</td>\n",
       "                        <td id=\"T_166c3fe2_d0eb_11ea_be97_4865ee12e626row3_col4\" class=\"data row3 col4\" >Daniel Kasman</td>\n",
       "                        <td id=\"T_166c3fe2_d0eb_11ea_be97_4865ee12e626row3_col5\" class=\"data row3 col5\" >0</td>\n",
       "                        <td id=\"T_166c3fe2_d0eb_11ea_be97_4865ee12e626row3_col6\" class=\"data row3 col6\" >MUBI</td>\n",
       "                        <td id=\"T_166c3fe2_d0eb_11ea_be97_4865ee12e626row3_col7\" class=\"data row3 col7\" >November 16, 2017</td>\n",
       "            </tr>\n",
       "            <tr>\n",
       "                        <th id=\"T_166c3fe2_d0eb_11ea_be97_4865ee12e626level0_row4\" class=\"row_heading level0 row4\" >4</th>\n",
       "                        <td id=\"T_166c3fe2_d0eb_11ea_be97_4865ee12e626row4_col0\" class=\"data row4 col0\" >3</td>\n",
       "                        <td id=\"T_166c3fe2_d0eb_11ea_be97_4865ee12e626row4_col1\" class=\"data row4 col1\" >... a perverse twist on neorealism... </td>\n",
       "                        <td id=\"T_166c3fe2_d0eb_11ea_be97_4865ee12e626row4_col2\" class=\"data row4 col2\" >nan</td>\n",
       "                        <td id=\"T_166c3fe2_d0eb_11ea_be97_4865ee12e626row4_col3\" class=\"data row4 col3\" >fresh</td>\n",
       "                        <td id=\"T_166c3fe2_d0eb_11ea_be97_4865ee12e626row4_col4\" class=\"data row4 col4\" >nan</td>\n",
       "                        <td id=\"T_166c3fe2_d0eb_11ea_be97_4865ee12e626row4_col5\" class=\"data row4 col5\" >0</td>\n",
       "                        <td id=\"T_166c3fe2_d0eb_11ea_be97_4865ee12e626row4_col6\" class=\"data row4 col6\" >Cinema Scope</td>\n",
       "                        <td id=\"T_166c3fe2_d0eb_11ea_be97_4865ee12e626row4_col7\" class=\"data row4 col7\" >October 12, 2017</td>\n",
       "            </tr>\n",
       "    </tbody></table>"
      ],
      "text/plain": [
       "<pandas.io.formats.style.Styler at 0x125c4d5c0>"
      ]
     },
     "metadata": {},
     "output_type": "display_data"
    },
    {
     "data": {
      "text/html": [
       "<style  type=\"text/css\" >\n",
       "</style><table id=\"T_169ecce4_d0eb_11ea_b177_4865ee12e626\" ><caption>imdb_title_basics</caption><thead>    <tr>        <th class=\"blank level0\" ></th>        <th class=\"col_heading level0 col0\" >tconst</th>        <th class=\"col_heading level0 col1\" >primary_title</th>        <th class=\"col_heading level0 col2\" >original_title</th>        <th class=\"col_heading level0 col3\" >start_year</th>        <th class=\"col_heading level0 col4\" >runtime_minutes</th>        <th class=\"col_heading level0 col5\" >genres</th>    </tr></thead><tbody>\n",
       "                <tr>\n",
       "                        <th id=\"T_169ecce4_d0eb_11ea_b177_4865ee12e626level0_row0\" class=\"row_heading level0 row0\" >0</th>\n",
       "                        <td id=\"T_169ecce4_d0eb_11ea_b177_4865ee12e626row0_col0\" class=\"data row0 col0\" >tt0063540</td>\n",
       "                        <td id=\"T_169ecce4_d0eb_11ea_b177_4865ee12e626row0_col1\" class=\"data row0 col1\" >Sunghursh</td>\n",
       "                        <td id=\"T_169ecce4_d0eb_11ea_b177_4865ee12e626row0_col2\" class=\"data row0 col2\" >Sunghursh</td>\n",
       "                        <td id=\"T_169ecce4_d0eb_11ea_b177_4865ee12e626row0_col3\" class=\"data row0 col3\" >2013</td>\n",
       "                        <td id=\"T_169ecce4_d0eb_11ea_b177_4865ee12e626row0_col4\" class=\"data row0 col4\" >175.000000</td>\n",
       "                        <td id=\"T_169ecce4_d0eb_11ea_b177_4865ee12e626row0_col5\" class=\"data row0 col5\" >Action,Crime,Drama</td>\n",
       "            </tr>\n",
       "            <tr>\n",
       "                        <th id=\"T_169ecce4_d0eb_11ea_b177_4865ee12e626level0_row1\" class=\"row_heading level0 row1\" >1</th>\n",
       "                        <td id=\"T_169ecce4_d0eb_11ea_b177_4865ee12e626row1_col0\" class=\"data row1 col0\" >tt0066787</td>\n",
       "                        <td id=\"T_169ecce4_d0eb_11ea_b177_4865ee12e626row1_col1\" class=\"data row1 col1\" >One Day Before the Rainy Season</td>\n",
       "                        <td id=\"T_169ecce4_d0eb_11ea_b177_4865ee12e626row1_col2\" class=\"data row1 col2\" >Ashad Ka Ek Din</td>\n",
       "                        <td id=\"T_169ecce4_d0eb_11ea_b177_4865ee12e626row1_col3\" class=\"data row1 col3\" >2019</td>\n",
       "                        <td id=\"T_169ecce4_d0eb_11ea_b177_4865ee12e626row1_col4\" class=\"data row1 col4\" >114.000000</td>\n",
       "                        <td id=\"T_169ecce4_d0eb_11ea_b177_4865ee12e626row1_col5\" class=\"data row1 col5\" >Biography,Drama</td>\n",
       "            </tr>\n",
       "            <tr>\n",
       "                        <th id=\"T_169ecce4_d0eb_11ea_b177_4865ee12e626level0_row2\" class=\"row_heading level0 row2\" >2</th>\n",
       "                        <td id=\"T_169ecce4_d0eb_11ea_b177_4865ee12e626row2_col0\" class=\"data row2 col0\" >tt0069049</td>\n",
       "                        <td id=\"T_169ecce4_d0eb_11ea_b177_4865ee12e626row2_col1\" class=\"data row2 col1\" >The Other Side of the Wind</td>\n",
       "                        <td id=\"T_169ecce4_d0eb_11ea_b177_4865ee12e626row2_col2\" class=\"data row2 col2\" >The Other Side of the Wind</td>\n",
       "                        <td id=\"T_169ecce4_d0eb_11ea_b177_4865ee12e626row2_col3\" class=\"data row2 col3\" >2018</td>\n",
       "                        <td id=\"T_169ecce4_d0eb_11ea_b177_4865ee12e626row2_col4\" class=\"data row2 col4\" >122.000000</td>\n",
       "                        <td id=\"T_169ecce4_d0eb_11ea_b177_4865ee12e626row2_col5\" class=\"data row2 col5\" >Drama</td>\n",
       "            </tr>\n",
       "            <tr>\n",
       "                        <th id=\"T_169ecce4_d0eb_11ea_b177_4865ee12e626level0_row3\" class=\"row_heading level0 row3\" >3</th>\n",
       "                        <td id=\"T_169ecce4_d0eb_11ea_b177_4865ee12e626row3_col0\" class=\"data row3 col0\" >tt0069204</td>\n",
       "                        <td id=\"T_169ecce4_d0eb_11ea_b177_4865ee12e626row3_col1\" class=\"data row3 col1\" >Sabse Bada Sukh</td>\n",
       "                        <td id=\"T_169ecce4_d0eb_11ea_b177_4865ee12e626row3_col2\" class=\"data row3 col2\" >Sabse Bada Sukh</td>\n",
       "                        <td id=\"T_169ecce4_d0eb_11ea_b177_4865ee12e626row3_col3\" class=\"data row3 col3\" >2018</td>\n",
       "                        <td id=\"T_169ecce4_d0eb_11ea_b177_4865ee12e626row3_col4\" class=\"data row3 col4\" >nan</td>\n",
       "                        <td id=\"T_169ecce4_d0eb_11ea_b177_4865ee12e626row3_col5\" class=\"data row3 col5\" >Comedy,Drama</td>\n",
       "            </tr>\n",
       "            <tr>\n",
       "                        <th id=\"T_169ecce4_d0eb_11ea_b177_4865ee12e626level0_row4\" class=\"row_heading level0 row4\" >4</th>\n",
       "                        <td id=\"T_169ecce4_d0eb_11ea_b177_4865ee12e626row4_col0\" class=\"data row4 col0\" >tt0100275</td>\n",
       "                        <td id=\"T_169ecce4_d0eb_11ea_b177_4865ee12e626row4_col1\" class=\"data row4 col1\" >The Wandering Soap Opera</td>\n",
       "                        <td id=\"T_169ecce4_d0eb_11ea_b177_4865ee12e626row4_col2\" class=\"data row4 col2\" >La Telenovela Errante</td>\n",
       "                        <td id=\"T_169ecce4_d0eb_11ea_b177_4865ee12e626row4_col3\" class=\"data row4 col3\" >2017</td>\n",
       "                        <td id=\"T_169ecce4_d0eb_11ea_b177_4865ee12e626row4_col4\" class=\"data row4 col4\" >80.000000</td>\n",
       "                        <td id=\"T_169ecce4_d0eb_11ea_b177_4865ee12e626row4_col5\" class=\"data row4 col5\" >Comedy,Drama,Fantasy</td>\n",
       "            </tr>\n",
       "    </tbody></table>"
      ],
      "text/plain": [
       "<pandas.io.formats.style.Styler at 0x134dd7b70>"
      ]
     },
     "metadata": {},
     "output_type": "display_data"
    },
    {
     "data": {
      "text/html": [
       "<style  type=\"text/css\" >\n",
       "</style><table id=\"T_16a4b3ca_d0eb_11ea_815b_4865ee12e626\" ><caption>rt_movie_info</caption><thead>    <tr>        <th class=\"blank level0\" ></th>        <th class=\"col_heading level0 col0\" >id</th>        <th class=\"col_heading level0 col1\" >synopsis</th>        <th class=\"col_heading level0 col2\" >rating</th>        <th class=\"col_heading level0 col3\" >genre</th>        <th class=\"col_heading level0 col4\" >director</th>        <th class=\"col_heading level0 col5\" >writer</th>        <th class=\"col_heading level0 col6\" >theater_date</th>        <th class=\"col_heading level0 col7\" >dvd_date</th>        <th class=\"col_heading level0 col8\" >currency</th>        <th class=\"col_heading level0 col9\" >box_office</th>        <th class=\"col_heading level0 col10\" >runtime</th>        <th class=\"col_heading level0 col11\" >studio</th>    </tr></thead><tbody>\n",
       "                <tr>\n",
       "                        <th id=\"T_16a4b3ca_d0eb_11ea_815b_4865ee12e626level0_row0\" class=\"row_heading level0 row0\" >0</th>\n",
       "                        <td id=\"T_16a4b3ca_d0eb_11ea_815b_4865ee12e626row0_col0\" class=\"data row0 col0\" >1</td>\n",
       "                        <td id=\"T_16a4b3ca_d0eb_11ea_815b_4865ee12e626row0_col1\" class=\"data row0 col1\" >This gritty, fast-paced, and innovative police drama earned five Academy Awards, including Best Picture, Best Adapted Screenplay (written by Ernest Tidyman), and Best Actor (Gene Hackman). Jimmy \"Popeye\" Doyle (Hackman) and his partner, Buddy Russo (Roy Scheider), are New York City police detectives on narcotics detail, trying to track down the source of heroin from Europe into the United States. Suave Alain Charnier (Fernando Rey) is the French drug kingpin who provides a large percentage of New York City's dope, and Pierre Nicoli (Marcel Bozzuffi) is a hired killer and Charnier's right-hand man. Acting on a hunch, Popeye and Buddy start tailing Sal Boca (Tony Lo Bianco) and his wife, Angie (Arlene Faber), who live pretty high for a couple whose corner store brings in about 7,000 dollars a year. It turns out Popeye's suspicions are right -- Sal and Angie are the New York agents for Charnier, who will be smuggling 32 million dollars' worth of heroin into the city in a car shipped over from France. The French Connection broke plenty of new ground for screen thrillers; Popeye Doyle was a highly unusual \"hero,\" an often violent, racist, and mean-spirited cop whose dedication to his job fell just short of dangerous obsession. The film's high point, a high-speed car chase with Popeye tailing an elevated train, was one of the most viscerally exciting screen moments of its day and set the stage for dozens of action sequences to follow. And the film's grimy realism (and downbeat ending) was a big change from the buff-and-shine gloss and good-guys-always-win heroics of most police dramas that preceded it. The French Connection was inspired by a true story, and Eddie Egan and Sonny Grosso, Popeye and Buddy's real life counterparts, both have small roles in the film. A sequel followed four years later.</td>\n",
       "                        <td id=\"T_16a4b3ca_d0eb_11ea_815b_4865ee12e626row0_col2\" class=\"data row0 col2\" >R</td>\n",
       "                        <td id=\"T_16a4b3ca_d0eb_11ea_815b_4865ee12e626row0_col3\" class=\"data row0 col3\" >Action and Adventure|Classics|Drama</td>\n",
       "                        <td id=\"T_16a4b3ca_d0eb_11ea_815b_4865ee12e626row0_col4\" class=\"data row0 col4\" >William Friedkin</td>\n",
       "                        <td id=\"T_16a4b3ca_d0eb_11ea_815b_4865ee12e626row0_col5\" class=\"data row0 col5\" >Ernest Tidyman</td>\n",
       "                        <td id=\"T_16a4b3ca_d0eb_11ea_815b_4865ee12e626row0_col6\" class=\"data row0 col6\" >Oct 9, 1971</td>\n",
       "                        <td id=\"T_16a4b3ca_d0eb_11ea_815b_4865ee12e626row0_col7\" class=\"data row0 col7\" >Sep 25, 2001</td>\n",
       "                        <td id=\"T_16a4b3ca_d0eb_11ea_815b_4865ee12e626row0_col8\" class=\"data row0 col8\" >nan</td>\n",
       "                        <td id=\"T_16a4b3ca_d0eb_11ea_815b_4865ee12e626row0_col9\" class=\"data row0 col9\" >nan</td>\n",
       "                        <td id=\"T_16a4b3ca_d0eb_11ea_815b_4865ee12e626row0_col10\" class=\"data row0 col10\" >104 minutes</td>\n",
       "                        <td id=\"T_16a4b3ca_d0eb_11ea_815b_4865ee12e626row0_col11\" class=\"data row0 col11\" >nan</td>\n",
       "            </tr>\n",
       "            <tr>\n",
       "                        <th id=\"T_16a4b3ca_d0eb_11ea_815b_4865ee12e626level0_row1\" class=\"row_heading level0 row1\" >1</th>\n",
       "                        <td id=\"T_16a4b3ca_d0eb_11ea_815b_4865ee12e626row1_col0\" class=\"data row1 col0\" >3</td>\n",
       "                        <td id=\"T_16a4b3ca_d0eb_11ea_815b_4865ee12e626row1_col1\" class=\"data row1 col1\" >New York City, not-too-distant-future: Eric Packer, a 28 year-old finance golden boy dreaming of living in a civilization ahead of this one, watches a dark shadow cast over the firmament of the Wall Street galaxy, of which he is the uncontested king. As he is chauffeured across midtown Manhattan to get a haircut at his father's old barber, his anxious eyes are glued to the yuan's exchange rate: it is mounting against all expectations, destroying Eric's bet against it. Eric Packer is losing his empire with every tick of the clock. Meanwhile, an eruption of wild activity unfolds in the city's streets. Petrified as the threats of the real world infringe upon his cloud of virtual convictions, his paranoia intensifies during the course of his 24-hour cross-town odyssey. Packer starts to piece together clues that lead him to a most terrifying secret: his imminent assassination. -- (C) Official Site</td>\n",
       "                        <td id=\"T_16a4b3ca_d0eb_11ea_815b_4865ee12e626row1_col2\" class=\"data row1 col2\" >R</td>\n",
       "                        <td id=\"T_16a4b3ca_d0eb_11ea_815b_4865ee12e626row1_col3\" class=\"data row1 col3\" >Drama|Science Fiction and Fantasy</td>\n",
       "                        <td id=\"T_16a4b3ca_d0eb_11ea_815b_4865ee12e626row1_col4\" class=\"data row1 col4\" >David Cronenberg</td>\n",
       "                        <td id=\"T_16a4b3ca_d0eb_11ea_815b_4865ee12e626row1_col5\" class=\"data row1 col5\" >David Cronenberg|Don DeLillo</td>\n",
       "                        <td id=\"T_16a4b3ca_d0eb_11ea_815b_4865ee12e626row1_col6\" class=\"data row1 col6\" >Aug 17, 2012</td>\n",
       "                        <td id=\"T_16a4b3ca_d0eb_11ea_815b_4865ee12e626row1_col7\" class=\"data row1 col7\" >Jan 1, 2013</td>\n",
       "                        <td id=\"T_16a4b3ca_d0eb_11ea_815b_4865ee12e626row1_col8\" class=\"data row1 col8\" >$</td>\n",
       "                        <td id=\"T_16a4b3ca_d0eb_11ea_815b_4865ee12e626row1_col9\" class=\"data row1 col9\" >600,000</td>\n",
       "                        <td id=\"T_16a4b3ca_d0eb_11ea_815b_4865ee12e626row1_col10\" class=\"data row1 col10\" >108 minutes</td>\n",
       "                        <td id=\"T_16a4b3ca_d0eb_11ea_815b_4865ee12e626row1_col11\" class=\"data row1 col11\" >Entertainment One</td>\n",
       "            </tr>\n",
       "            <tr>\n",
       "                        <th id=\"T_16a4b3ca_d0eb_11ea_815b_4865ee12e626level0_row2\" class=\"row_heading level0 row2\" >2</th>\n",
       "                        <td id=\"T_16a4b3ca_d0eb_11ea_815b_4865ee12e626row2_col0\" class=\"data row2 col0\" >5</td>\n",
       "                        <td id=\"T_16a4b3ca_d0eb_11ea_815b_4865ee12e626row2_col1\" class=\"data row2 col1\" >Illeana Douglas delivers a superb performance as Denise Waverly, a fictional singer and songwriter whose life bears more than a passing resemblance to that of real-life pop star Carole King. Edna Buxton, the daughter of a Philadelphia steel tycoon, aspires to a career as a singer, and when against her mother's bidding she sings a sultry version of \"Hey There (You With the Stars in Your Eyes)\" (instead of Mom's choice, \"You'll Never Walk Alone\") at a talent contest, she wins a recording contact and moves to New York City. She cuts a record and gains a new stage name, Denise Waverly; however, she soon finds that girl singers are a dime a dozen in the Big Apple and her career as a vocalist goes nowhere. But she has a knack for writing songs, and eccentric producer Joel Milner (John Turturro) asks her to pen some songs for his upcoming projects. Teamed with Howard Caszatt (Eric Stoltz), a hipster songwriter who wants to express his political and social ideals through pop tunes, she finds both a successful collaborator and husband. While her work with Howard gains Denise writing credits on a string of hit records and respect within the industry, their marriage falls apart, and she becomes involved with Jay Phillips (Matt Dillon), the gifted but unstable leader of a popular West Coast surf music combo. Students of pop music history will have a ball with the various characters modeled after real-life rock legends, and the 1960s-style song score includes numbers written by Joni Mitchell and J. Mascis (of the band Dinosaur Jr.), as well as one-time King collaborator Gerry Goffin; a collaboration between Elvis Costello and Burt Bacharach, \"God Give Me Strength,\" led to a full album written by the two great tunesmiths.</td>\n",
       "                        <td id=\"T_16a4b3ca_d0eb_11ea_815b_4865ee12e626row2_col2\" class=\"data row2 col2\" >R</td>\n",
       "                        <td id=\"T_16a4b3ca_d0eb_11ea_815b_4865ee12e626row2_col3\" class=\"data row2 col3\" >Drama|Musical and Performing Arts</td>\n",
       "                        <td id=\"T_16a4b3ca_d0eb_11ea_815b_4865ee12e626row2_col4\" class=\"data row2 col4\" >Allison Anders</td>\n",
       "                        <td id=\"T_16a4b3ca_d0eb_11ea_815b_4865ee12e626row2_col5\" class=\"data row2 col5\" >Allison Anders</td>\n",
       "                        <td id=\"T_16a4b3ca_d0eb_11ea_815b_4865ee12e626row2_col6\" class=\"data row2 col6\" >Sep 13, 1996</td>\n",
       "                        <td id=\"T_16a4b3ca_d0eb_11ea_815b_4865ee12e626row2_col7\" class=\"data row2 col7\" >Apr 18, 2000</td>\n",
       "                        <td id=\"T_16a4b3ca_d0eb_11ea_815b_4865ee12e626row2_col8\" class=\"data row2 col8\" >nan</td>\n",
       "                        <td id=\"T_16a4b3ca_d0eb_11ea_815b_4865ee12e626row2_col9\" class=\"data row2 col9\" >nan</td>\n",
       "                        <td id=\"T_16a4b3ca_d0eb_11ea_815b_4865ee12e626row2_col10\" class=\"data row2 col10\" >116 minutes</td>\n",
       "                        <td id=\"T_16a4b3ca_d0eb_11ea_815b_4865ee12e626row2_col11\" class=\"data row2 col11\" >nan</td>\n",
       "            </tr>\n",
       "            <tr>\n",
       "                        <th id=\"T_16a4b3ca_d0eb_11ea_815b_4865ee12e626level0_row3\" class=\"row_heading level0 row3\" >3</th>\n",
       "                        <td id=\"T_16a4b3ca_d0eb_11ea_815b_4865ee12e626row3_col0\" class=\"data row3 col0\" >6</td>\n",
       "                        <td id=\"T_16a4b3ca_d0eb_11ea_815b_4865ee12e626row3_col1\" class=\"data row3 col1\" >Michael Douglas runs afoul of a treacherous supervisor in this film version of Michael Crichton's novel. Douglas plays Tom Sanders, an executive at DigiCom, a leading computer software firm. DigiCom is about to launch a new virtual reality-based data storage system that is expected to revolutionize the industry, and Bob Garvin (Donald Sutherland), the owner of the company, is in the midst of negotiating a merger that could bring</td>\n",
       "                        <td id=\"T_16a4b3ca_d0eb_11ea_815b_4865ee12e626row3_col2\" class=\"data row3 col2\" >R</td>\n",
       "                        <td id=\"T_16a4b3ca_d0eb_11ea_815b_4865ee12e626row3_col3\" class=\"data row3 col3\" >Drama|Mystery and Suspense</td>\n",
       "                        <td id=\"T_16a4b3ca_d0eb_11ea_815b_4865ee12e626row3_col4\" class=\"data row3 col4\" >Barry Levinson</td>\n",
       "                        <td id=\"T_16a4b3ca_d0eb_11ea_815b_4865ee12e626row3_col5\" class=\"data row3 col5\" >Paul Attanasio|Michael Crichton</td>\n",
       "                        <td id=\"T_16a4b3ca_d0eb_11ea_815b_4865ee12e626row3_col6\" class=\"data row3 col6\" >Dec 9, 1994</td>\n",
       "                        <td id=\"T_16a4b3ca_d0eb_11ea_815b_4865ee12e626row3_col7\" class=\"data row3 col7\" >Aug 27, 1997</td>\n",
       "                        <td id=\"T_16a4b3ca_d0eb_11ea_815b_4865ee12e626row3_col8\" class=\"data row3 col8\" >nan</td>\n",
       "                        <td id=\"T_16a4b3ca_d0eb_11ea_815b_4865ee12e626row3_col9\" class=\"data row3 col9\" >nan</td>\n",
       "                        <td id=\"T_16a4b3ca_d0eb_11ea_815b_4865ee12e626row3_col10\" class=\"data row3 col10\" >128 minutes</td>\n",
       "                        <td id=\"T_16a4b3ca_d0eb_11ea_815b_4865ee12e626row3_col11\" class=\"data row3 col11\" >nan</td>\n",
       "            </tr>\n",
       "            <tr>\n",
       "                        <th id=\"T_16a4b3ca_d0eb_11ea_815b_4865ee12e626level0_row4\" class=\"row_heading level0 row4\" >4</th>\n",
       "                        <td id=\"T_16a4b3ca_d0eb_11ea_815b_4865ee12e626row4_col0\" class=\"data row4 col0\" >7</td>\n",
       "                        <td id=\"T_16a4b3ca_d0eb_11ea_815b_4865ee12e626row4_col1\" class=\"data row4 col1\" >nan</td>\n",
       "                        <td id=\"T_16a4b3ca_d0eb_11ea_815b_4865ee12e626row4_col2\" class=\"data row4 col2\" >NR</td>\n",
       "                        <td id=\"T_16a4b3ca_d0eb_11ea_815b_4865ee12e626row4_col3\" class=\"data row4 col3\" >Drama|Romance</td>\n",
       "                        <td id=\"T_16a4b3ca_d0eb_11ea_815b_4865ee12e626row4_col4\" class=\"data row4 col4\" >Rodney Bennett</td>\n",
       "                        <td id=\"T_16a4b3ca_d0eb_11ea_815b_4865ee12e626row4_col5\" class=\"data row4 col5\" >Giles Cooper</td>\n",
       "                        <td id=\"T_16a4b3ca_d0eb_11ea_815b_4865ee12e626row4_col6\" class=\"data row4 col6\" >nan</td>\n",
       "                        <td id=\"T_16a4b3ca_d0eb_11ea_815b_4865ee12e626row4_col7\" class=\"data row4 col7\" >nan</td>\n",
       "                        <td id=\"T_16a4b3ca_d0eb_11ea_815b_4865ee12e626row4_col8\" class=\"data row4 col8\" >nan</td>\n",
       "                        <td id=\"T_16a4b3ca_d0eb_11ea_815b_4865ee12e626row4_col9\" class=\"data row4 col9\" >nan</td>\n",
       "                        <td id=\"T_16a4b3ca_d0eb_11ea_815b_4865ee12e626row4_col10\" class=\"data row4 col10\" >200 minutes</td>\n",
       "                        <td id=\"T_16a4b3ca_d0eb_11ea_815b_4865ee12e626row4_col11\" class=\"data row4 col11\" >nan</td>\n",
       "            </tr>\n",
       "    </tbody></table>"
      ],
      "text/plain": [
       "<pandas.io.formats.style.Styler at 0x12945f438>"
      ]
     },
     "metadata": {},
     "output_type": "display_data"
    },
    {
     "data": {
      "text/html": [
       "<style  type=\"text/css\" >\n",
       "</style><table id=\"T_16a78828_d0eb_11ea_a93a_4865ee12e626\" ><caption>tn_movie_budgets</caption><thead>    <tr>        <th class=\"blank level0\" ></th>        <th class=\"col_heading level0 col0\" >id</th>        <th class=\"col_heading level0 col1\" >release_date</th>        <th class=\"col_heading level0 col2\" >movie</th>        <th class=\"col_heading level0 col3\" >production_budget</th>        <th class=\"col_heading level0 col4\" >domestic_gross</th>        <th class=\"col_heading level0 col5\" >worldwide_gross</th>    </tr></thead><tbody>\n",
       "                <tr>\n",
       "                        <th id=\"T_16a78828_d0eb_11ea_a93a_4865ee12e626level0_row0\" class=\"row_heading level0 row0\" >0</th>\n",
       "                        <td id=\"T_16a78828_d0eb_11ea_a93a_4865ee12e626row0_col0\" class=\"data row0 col0\" >1</td>\n",
       "                        <td id=\"T_16a78828_d0eb_11ea_a93a_4865ee12e626row0_col1\" class=\"data row0 col1\" >Dec 18, 2009</td>\n",
       "                        <td id=\"T_16a78828_d0eb_11ea_a93a_4865ee12e626row0_col2\" class=\"data row0 col2\" >Avatar</td>\n",
       "                        <td id=\"T_16a78828_d0eb_11ea_a93a_4865ee12e626row0_col3\" class=\"data row0 col3\" >$425,000,000</td>\n",
       "                        <td id=\"T_16a78828_d0eb_11ea_a93a_4865ee12e626row0_col4\" class=\"data row0 col4\" >$760,507,625</td>\n",
       "                        <td id=\"T_16a78828_d0eb_11ea_a93a_4865ee12e626row0_col5\" class=\"data row0 col5\" >$2,776,345,279</td>\n",
       "            </tr>\n",
       "            <tr>\n",
       "                        <th id=\"T_16a78828_d0eb_11ea_a93a_4865ee12e626level0_row1\" class=\"row_heading level0 row1\" >1</th>\n",
       "                        <td id=\"T_16a78828_d0eb_11ea_a93a_4865ee12e626row1_col0\" class=\"data row1 col0\" >2</td>\n",
       "                        <td id=\"T_16a78828_d0eb_11ea_a93a_4865ee12e626row1_col1\" class=\"data row1 col1\" >May 20, 2011</td>\n",
       "                        <td id=\"T_16a78828_d0eb_11ea_a93a_4865ee12e626row1_col2\" class=\"data row1 col2\" >Pirates of the Caribbean: On Stranger Tides</td>\n",
       "                        <td id=\"T_16a78828_d0eb_11ea_a93a_4865ee12e626row1_col3\" class=\"data row1 col3\" >$410,600,000</td>\n",
       "                        <td id=\"T_16a78828_d0eb_11ea_a93a_4865ee12e626row1_col4\" class=\"data row1 col4\" >$241,063,875</td>\n",
       "                        <td id=\"T_16a78828_d0eb_11ea_a93a_4865ee12e626row1_col5\" class=\"data row1 col5\" >$1,045,663,875</td>\n",
       "            </tr>\n",
       "            <tr>\n",
       "                        <th id=\"T_16a78828_d0eb_11ea_a93a_4865ee12e626level0_row2\" class=\"row_heading level0 row2\" >2</th>\n",
       "                        <td id=\"T_16a78828_d0eb_11ea_a93a_4865ee12e626row2_col0\" class=\"data row2 col0\" >3</td>\n",
       "                        <td id=\"T_16a78828_d0eb_11ea_a93a_4865ee12e626row2_col1\" class=\"data row2 col1\" >Jun 7, 2019</td>\n",
       "                        <td id=\"T_16a78828_d0eb_11ea_a93a_4865ee12e626row2_col2\" class=\"data row2 col2\" >Dark Phoenix</td>\n",
       "                        <td id=\"T_16a78828_d0eb_11ea_a93a_4865ee12e626row2_col3\" class=\"data row2 col3\" >$350,000,000</td>\n",
       "                        <td id=\"T_16a78828_d0eb_11ea_a93a_4865ee12e626row2_col4\" class=\"data row2 col4\" >$42,762,350</td>\n",
       "                        <td id=\"T_16a78828_d0eb_11ea_a93a_4865ee12e626row2_col5\" class=\"data row2 col5\" >$149,762,350</td>\n",
       "            </tr>\n",
       "            <tr>\n",
       "                        <th id=\"T_16a78828_d0eb_11ea_a93a_4865ee12e626level0_row3\" class=\"row_heading level0 row3\" >3</th>\n",
       "                        <td id=\"T_16a78828_d0eb_11ea_a93a_4865ee12e626row3_col0\" class=\"data row3 col0\" >4</td>\n",
       "                        <td id=\"T_16a78828_d0eb_11ea_a93a_4865ee12e626row3_col1\" class=\"data row3 col1\" >May 1, 2015</td>\n",
       "                        <td id=\"T_16a78828_d0eb_11ea_a93a_4865ee12e626row3_col2\" class=\"data row3 col2\" >Avengers: Age of Ultron</td>\n",
       "                        <td id=\"T_16a78828_d0eb_11ea_a93a_4865ee12e626row3_col3\" class=\"data row3 col3\" >$330,600,000</td>\n",
       "                        <td id=\"T_16a78828_d0eb_11ea_a93a_4865ee12e626row3_col4\" class=\"data row3 col4\" >$459,005,868</td>\n",
       "                        <td id=\"T_16a78828_d0eb_11ea_a93a_4865ee12e626row3_col5\" class=\"data row3 col5\" >$1,403,013,963</td>\n",
       "            </tr>\n",
       "            <tr>\n",
       "                        <th id=\"T_16a78828_d0eb_11ea_a93a_4865ee12e626level0_row4\" class=\"row_heading level0 row4\" >4</th>\n",
       "                        <td id=\"T_16a78828_d0eb_11ea_a93a_4865ee12e626row4_col0\" class=\"data row4 col0\" >5</td>\n",
       "                        <td id=\"T_16a78828_d0eb_11ea_a93a_4865ee12e626row4_col1\" class=\"data row4 col1\" >Dec 15, 2017</td>\n",
       "                        <td id=\"T_16a78828_d0eb_11ea_a93a_4865ee12e626row4_col2\" class=\"data row4 col2\" >Star Wars Ep. VIII: The Last Jedi</td>\n",
       "                        <td id=\"T_16a78828_d0eb_11ea_a93a_4865ee12e626row4_col3\" class=\"data row4 col3\" >$317,000,000</td>\n",
       "                        <td id=\"T_16a78828_d0eb_11ea_a93a_4865ee12e626row4_col4\" class=\"data row4 col4\" >$620,181,382</td>\n",
       "                        <td id=\"T_16a78828_d0eb_11ea_a93a_4865ee12e626row4_col5\" class=\"data row4 col5\" >$1,316,721,747</td>\n",
       "            </tr>\n",
       "    </tbody></table>"
      ],
      "text/plain": [
       "<pandas.io.formats.style.Styler at 0x134dd7c50>"
      ]
     },
     "metadata": {},
     "output_type": "display_data"
    },
    {
     "data": {
      "text/html": [
       "<style  type=\"text/css\" >\n",
       "</style><table id=\"T_16a96424_d0eb_11ea_a07d_4865ee12e626\" ><caption>bom_movie_gross</caption><thead>    <tr>        <th class=\"blank level0\" ></th>        <th class=\"col_heading level0 col0\" >title</th>        <th class=\"col_heading level0 col1\" >studio</th>        <th class=\"col_heading level0 col2\" >domestic_gross</th>        <th class=\"col_heading level0 col3\" >foreign_gross</th>        <th class=\"col_heading level0 col4\" >year</th>    </tr></thead><tbody>\n",
       "                <tr>\n",
       "                        <th id=\"T_16a96424_d0eb_11ea_a07d_4865ee12e626level0_row0\" class=\"row_heading level0 row0\" >0</th>\n",
       "                        <td id=\"T_16a96424_d0eb_11ea_a07d_4865ee12e626row0_col0\" class=\"data row0 col0\" >Toy Story 3</td>\n",
       "                        <td id=\"T_16a96424_d0eb_11ea_a07d_4865ee12e626row0_col1\" class=\"data row0 col1\" >BV</td>\n",
       "                        <td id=\"T_16a96424_d0eb_11ea_a07d_4865ee12e626row0_col2\" class=\"data row0 col2\" >415000000.000000</td>\n",
       "                        <td id=\"T_16a96424_d0eb_11ea_a07d_4865ee12e626row0_col3\" class=\"data row0 col3\" >652000000</td>\n",
       "                        <td id=\"T_16a96424_d0eb_11ea_a07d_4865ee12e626row0_col4\" class=\"data row0 col4\" >2010</td>\n",
       "            </tr>\n",
       "            <tr>\n",
       "                        <th id=\"T_16a96424_d0eb_11ea_a07d_4865ee12e626level0_row1\" class=\"row_heading level0 row1\" >1</th>\n",
       "                        <td id=\"T_16a96424_d0eb_11ea_a07d_4865ee12e626row1_col0\" class=\"data row1 col0\" >Alice in Wonderland (2010)</td>\n",
       "                        <td id=\"T_16a96424_d0eb_11ea_a07d_4865ee12e626row1_col1\" class=\"data row1 col1\" >BV</td>\n",
       "                        <td id=\"T_16a96424_d0eb_11ea_a07d_4865ee12e626row1_col2\" class=\"data row1 col2\" >334200000.000000</td>\n",
       "                        <td id=\"T_16a96424_d0eb_11ea_a07d_4865ee12e626row1_col3\" class=\"data row1 col3\" >691300000</td>\n",
       "                        <td id=\"T_16a96424_d0eb_11ea_a07d_4865ee12e626row1_col4\" class=\"data row1 col4\" >2010</td>\n",
       "            </tr>\n",
       "            <tr>\n",
       "                        <th id=\"T_16a96424_d0eb_11ea_a07d_4865ee12e626level0_row2\" class=\"row_heading level0 row2\" >2</th>\n",
       "                        <td id=\"T_16a96424_d0eb_11ea_a07d_4865ee12e626row2_col0\" class=\"data row2 col0\" >Harry Potter and the Deathly Hallows Part 1</td>\n",
       "                        <td id=\"T_16a96424_d0eb_11ea_a07d_4865ee12e626row2_col1\" class=\"data row2 col1\" >WB</td>\n",
       "                        <td id=\"T_16a96424_d0eb_11ea_a07d_4865ee12e626row2_col2\" class=\"data row2 col2\" >296000000.000000</td>\n",
       "                        <td id=\"T_16a96424_d0eb_11ea_a07d_4865ee12e626row2_col3\" class=\"data row2 col3\" >664300000</td>\n",
       "                        <td id=\"T_16a96424_d0eb_11ea_a07d_4865ee12e626row2_col4\" class=\"data row2 col4\" >2010</td>\n",
       "            </tr>\n",
       "            <tr>\n",
       "                        <th id=\"T_16a96424_d0eb_11ea_a07d_4865ee12e626level0_row3\" class=\"row_heading level0 row3\" >3</th>\n",
       "                        <td id=\"T_16a96424_d0eb_11ea_a07d_4865ee12e626row3_col0\" class=\"data row3 col0\" >Inception</td>\n",
       "                        <td id=\"T_16a96424_d0eb_11ea_a07d_4865ee12e626row3_col1\" class=\"data row3 col1\" >WB</td>\n",
       "                        <td id=\"T_16a96424_d0eb_11ea_a07d_4865ee12e626row3_col2\" class=\"data row3 col2\" >292600000.000000</td>\n",
       "                        <td id=\"T_16a96424_d0eb_11ea_a07d_4865ee12e626row3_col3\" class=\"data row3 col3\" >535700000</td>\n",
       "                        <td id=\"T_16a96424_d0eb_11ea_a07d_4865ee12e626row3_col4\" class=\"data row3 col4\" >2010</td>\n",
       "            </tr>\n",
       "            <tr>\n",
       "                        <th id=\"T_16a96424_d0eb_11ea_a07d_4865ee12e626level0_row4\" class=\"row_heading level0 row4\" >4</th>\n",
       "                        <td id=\"T_16a96424_d0eb_11ea_a07d_4865ee12e626row4_col0\" class=\"data row4 col0\" >Shrek Forever After</td>\n",
       "                        <td id=\"T_16a96424_d0eb_11ea_a07d_4865ee12e626row4_col1\" class=\"data row4 col1\" >P/DW</td>\n",
       "                        <td id=\"T_16a96424_d0eb_11ea_a07d_4865ee12e626row4_col2\" class=\"data row4 col2\" >238700000.000000</td>\n",
       "                        <td id=\"T_16a96424_d0eb_11ea_a07d_4865ee12e626row4_col3\" class=\"data row4 col3\" >513900000</td>\n",
       "                        <td id=\"T_16a96424_d0eb_11ea_a07d_4865ee12e626row4_col4\" class=\"data row4 col4\" >2010</td>\n",
       "            </tr>\n",
       "    </tbody></table>"
      ],
      "text/plain": [
       "<pandas.io.formats.style.Styler at 0x12b07a358>"
      ]
     },
     "metadata": {},
     "output_type": "display_data"
    },
    {
     "data": {
      "text/html": [
       "<style  type=\"text/css\" >\n",
       "</style><table id=\"T_175d0558_d0eb_11ea_bc09_4865ee12e626\" ><caption>imdb_title_principals</caption><thead>    <tr>        <th class=\"blank level0\" ></th>        <th class=\"col_heading level0 col0\" >tconst</th>        <th class=\"col_heading level0 col1\" >ordering</th>        <th class=\"col_heading level0 col2\" >nconst</th>        <th class=\"col_heading level0 col3\" >category</th>        <th class=\"col_heading level0 col4\" >job</th>        <th class=\"col_heading level0 col5\" >characters</th>    </tr></thead><tbody>\n",
       "                <tr>\n",
       "                        <th id=\"T_175d0558_d0eb_11ea_bc09_4865ee12e626level0_row0\" class=\"row_heading level0 row0\" >0</th>\n",
       "                        <td id=\"T_175d0558_d0eb_11ea_bc09_4865ee12e626row0_col0\" class=\"data row0 col0\" >tt0111414</td>\n",
       "                        <td id=\"T_175d0558_d0eb_11ea_bc09_4865ee12e626row0_col1\" class=\"data row0 col1\" >1</td>\n",
       "                        <td id=\"T_175d0558_d0eb_11ea_bc09_4865ee12e626row0_col2\" class=\"data row0 col2\" >nm0246005</td>\n",
       "                        <td id=\"T_175d0558_d0eb_11ea_bc09_4865ee12e626row0_col3\" class=\"data row0 col3\" >actor</td>\n",
       "                        <td id=\"T_175d0558_d0eb_11ea_bc09_4865ee12e626row0_col4\" class=\"data row0 col4\" >nan</td>\n",
       "                        <td id=\"T_175d0558_d0eb_11ea_bc09_4865ee12e626row0_col5\" class=\"data row0 col5\" >[\"The Man\"]</td>\n",
       "            </tr>\n",
       "            <tr>\n",
       "                        <th id=\"T_175d0558_d0eb_11ea_bc09_4865ee12e626level0_row1\" class=\"row_heading level0 row1\" >1</th>\n",
       "                        <td id=\"T_175d0558_d0eb_11ea_bc09_4865ee12e626row1_col0\" class=\"data row1 col0\" >tt0111414</td>\n",
       "                        <td id=\"T_175d0558_d0eb_11ea_bc09_4865ee12e626row1_col1\" class=\"data row1 col1\" >2</td>\n",
       "                        <td id=\"T_175d0558_d0eb_11ea_bc09_4865ee12e626row1_col2\" class=\"data row1 col2\" >nm0398271</td>\n",
       "                        <td id=\"T_175d0558_d0eb_11ea_bc09_4865ee12e626row1_col3\" class=\"data row1 col3\" >director</td>\n",
       "                        <td id=\"T_175d0558_d0eb_11ea_bc09_4865ee12e626row1_col4\" class=\"data row1 col4\" >nan</td>\n",
       "                        <td id=\"T_175d0558_d0eb_11ea_bc09_4865ee12e626row1_col5\" class=\"data row1 col5\" >nan</td>\n",
       "            </tr>\n",
       "            <tr>\n",
       "                        <th id=\"T_175d0558_d0eb_11ea_bc09_4865ee12e626level0_row2\" class=\"row_heading level0 row2\" >2</th>\n",
       "                        <td id=\"T_175d0558_d0eb_11ea_bc09_4865ee12e626row2_col0\" class=\"data row2 col0\" >tt0111414</td>\n",
       "                        <td id=\"T_175d0558_d0eb_11ea_bc09_4865ee12e626row2_col1\" class=\"data row2 col1\" >3</td>\n",
       "                        <td id=\"T_175d0558_d0eb_11ea_bc09_4865ee12e626row2_col2\" class=\"data row2 col2\" >nm3739909</td>\n",
       "                        <td id=\"T_175d0558_d0eb_11ea_bc09_4865ee12e626row2_col3\" class=\"data row2 col3\" >producer</td>\n",
       "                        <td id=\"T_175d0558_d0eb_11ea_bc09_4865ee12e626row2_col4\" class=\"data row2 col4\" >producer</td>\n",
       "                        <td id=\"T_175d0558_d0eb_11ea_bc09_4865ee12e626row2_col5\" class=\"data row2 col5\" >nan</td>\n",
       "            </tr>\n",
       "            <tr>\n",
       "                        <th id=\"T_175d0558_d0eb_11ea_bc09_4865ee12e626level0_row3\" class=\"row_heading level0 row3\" >3</th>\n",
       "                        <td id=\"T_175d0558_d0eb_11ea_bc09_4865ee12e626row3_col0\" class=\"data row3 col0\" >tt0323808</td>\n",
       "                        <td id=\"T_175d0558_d0eb_11ea_bc09_4865ee12e626row3_col1\" class=\"data row3 col1\" >10</td>\n",
       "                        <td id=\"T_175d0558_d0eb_11ea_bc09_4865ee12e626row3_col2\" class=\"data row3 col2\" >nm0059247</td>\n",
       "                        <td id=\"T_175d0558_d0eb_11ea_bc09_4865ee12e626row3_col3\" class=\"data row3 col3\" >editor</td>\n",
       "                        <td id=\"T_175d0558_d0eb_11ea_bc09_4865ee12e626row3_col4\" class=\"data row3 col4\" >nan</td>\n",
       "                        <td id=\"T_175d0558_d0eb_11ea_bc09_4865ee12e626row3_col5\" class=\"data row3 col5\" >nan</td>\n",
       "            </tr>\n",
       "            <tr>\n",
       "                        <th id=\"T_175d0558_d0eb_11ea_bc09_4865ee12e626level0_row4\" class=\"row_heading level0 row4\" >4</th>\n",
       "                        <td id=\"T_175d0558_d0eb_11ea_bc09_4865ee12e626row4_col0\" class=\"data row4 col0\" >tt0323808</td>\n",
       "                        <td id=\"T_175d0558_d0eb_11ea_bc09_4865ee12e626row4_col1\" class=\"data row4 col1\" >1</td>\n",
       "                        <td id=\"T_175d0558_d0eb_11ea_bc09_4865ee12e626row4_col2\" class=\"data row4 col2\" >nm3579312</td>\n",
       "                        <td id=\"T_175d0558_d0eb_11ea_bc09_4865ee12e626row4_col3\" class=\"data row4 col3\" >actress</td>\n",
       "                        <td id=\"T_175d0558_d0eb_11ea_bc09_4865ee12e626row4_col4\" class=\"data row4 col4\" >nan</td>\n",
       "                        <td id=\"T_175d0558_d0eb_11ea_bc09_4865ee12e626row4_col5\" class=\"data row4 col5\" >[\"Beth Boothby\"]</td>\n",
       "            </tr>\n",
       "    </tbody></table>"
      ],
      "text/plain": [
       "<pandas.io.formats.style.Styler at 0x12727fda0>"
      ]
     },
     "metadata": {},
     "output_type": "display_data"
    }
   ],
   "source": [
    "TABLES = {}\n",
    "for file in file_list:\n",
    "    \n",
    "    try:\n",
    "        df = pd.read_csv(file)\n",
    "    except:\n",
    "        df = pd.read_csv(file,sep='\\t',encoding='latin-1')\n",
    "    \n",
    "    fname = file.split('/')[-1]\n",
    "    table_name = '_'.join(fname.split('.')[:-2])\n",
    "    \n",
    "    display(df.head().style.set_caption(table_name))\n",
    "    TABLES[table_name] = df\n",
    "    "
   ]
  },
  {
   "cell_type": "code",
   "execution_count": 6,
   "metadata": {
    "ExecuteTime": {
     "end_time": "2020-07-28T15:57:51.618723Z",
     "start_time": "2020-07-28T15:57:51.615392Z"
    }
   },
   "outputs": [
    {
     "data": {
      "text/plain": [
       "['imdb_title_crew',\n",
       " 'tmdb_movies',\n",
       " 'imdb_title_akas',\n",
       " 'imdb_title_ratings',\n",
       " 'imdb_name_basics',\n",
       " 'rt_reviews',\n",
       " 'imdb_title_basics',\n",
       " 'rt_movie_info',\n",
       " 'tn_movie_budgets',\n",
       " 'bom_movie_gross',\n",
       " 'imdb_title_principals']"
      ]
     },
     "execution_count": 6,
     "metadata": {},
     "output_type": "execute_result"
    }
   ],
   "source": [
    "keys = list(TABLES.keys())\n",
    "keys"
   ]
  },
  {
   "cell_type": "code",
   "execution_count": null,
   "metadata": {},
   "outputs": [],
   "source": []
  }
 ],
 "metadata": {
  "kernelspec": {
   "display_name": "Python [conda env:learn-env] *",
   "language": "python",
   "name": "conda-env-learn-env-py"
  },
  "language_info": {
   "codemirror_mode": {
    "name": "ipython",
    "version": 3
   },
   "file_extension": ".py",
   "mimetype": "text/x-python",
   "name": "python",
   "nbconvert_exporter": "python",
   "pygments_lexer": "ipython3",
   "version": "3.6.9"
  },
  "toc": {
   "base_numbering": 1,
   "nav_menu": {},
   "number_sections": true,
   "sideBar": true,
   "skip_h1_title": false,
   "title_cell": "Table of Contents",
   "title_sidebar": "Contents",
   "toc_cell": false,
   "toc_position": {},
   "toc_section_display": true,
   "toc_window_display": false
  }
 },
 "nbformat": 4,
 "nbformat_minor": 2
}
